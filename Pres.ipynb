{
 "cells": [
  {
   "cell_type": "markdown",
   "metadata": {},
   "source": [
    "Sep the 18th, 2019 - Fabián Gómez.\n",
    "**Bogotá, Colombia - Dirección de Sintesis y Cuentas Nacionales.**\n",
    "# Ciencia de Datos #\n",
    "<img src=\"BigData.png\" alt=\"Data-Pop's logo\" style=\"width: 450px;\" align=\"center\" frameborder=\"550\"/>\n",
    "\n"
   ]
  },
  {
   "cell_type": "markdown",
   "metadata": {},
   "source": [
    "La ciencia de datos abarca un conjunto de principios, problemas\n",
    "definiciones, algoritmos y procesos para extraer patrones (no obvios y  útiles)\n",
    "de grandes conjuntos de datos. \n",
    "\n",
    "Muchos de los elementos de la ciencia de datos se han desarrollado en\n",
    "campos relacionados como el **_machine learnig_** y **_data mining_**.\n",
    "De hecho, los términos ciencia de datos, _machine learnig_ y _data mining_ a menudo se usa indistintamente. La comunidad\n",
    "a través de estas disciplinas se enfoca en mejorar la decisión\n",
    "haciendo a través del análisis de datos. Sin embargo aunque\n",
    "la ciencia de datos toma prestado de estos otros campos, es más amplio\n",
    "en alcance.\n",
    "\n",
    "_Machine learnig_ (ML) se centra en el diseño\n",
    "y evaluación de algoritmos para extraer patrones de\n",
    "datos. _Data mining_ generalmente se ocupa del análisis de\n",
    "datos estructurados y a menudo implica un énfasis en aplicaciones comercial.\n",
    "\n",
    "<img src=\"DS.png\" alt=\"Data-Pop's logo\" style=\"width: 550px;\" align=\"center\" frameborder=\"550\"/>\n"
   ]
  },
  {
   "cell_type": "markdown",
   "metadata": {},
   "source": [
    "## ¿Qué es Big Data?\n",
    "<img src=\"7v.png\" alt=\"Data-Pop's logo\" style=\"width: 750px;\" align=\"center\" frameborder=\"550\"/>\n"
   ]
  },
  {
   "cell_type": "markdown",
   "metadata": {},
   "source": [
    "Varios factores han contribuido al reciente crecimiento\n",
    "de ciencia de datos. Como ya hemos mencionado, el surgimiento\n",
    "de big data ha sido impulsado por la relativa facilidad con\n",
    "qué organizaciones pueden recopilar datos. Ya sea a través del punto\n",
    "registros de:\n",
    "- Transacciones de ventas, clics en plataformas en línea\n",
    "- Publicaciones en redes sociales\n",
    "- Aplicaciones en teléfonos inteligentes u otras miles canales\n",
    "\n"
   ]
  },
  {
   "cell_type": "markdown",
   "metadata": {},
   "source": [
    "La llegada de Big Data ha impulsado el desarrollo de una gama de nuevas tecnologías de bases de datos. Esta nueva generación\n",
    "de bases de datos a menudo se denomina \"bases de datos NoSQL\". Por lo general, tienen un modelo de datos más simple que las bases de datos relacionales tradicionales. Una base de datos NoSQL almacena datos como objetos con atributos, usando una notación de objeto\n",
    "lenguaje como _JavaScript Object Notation_ (JSON).\n",
    "\n",
    "<img src=\"DS2.png\" alt=\"Data-Pop's logo\" style=\"width: 550px;\" align=\"center\" frameborder=\"550\"/>\n"
   ]
  },
  {
   "cell_type": "markdown",
   "metadata": {},
   "source": [
    "## Data Mining\n",
    "La minería de datos generalmente se ocupa del análisis de\n",
    "datos estructurados y a menudo implica un énfasis en \n",
    "aplicaciones comerciales. La ciencia de datos toma todas estas consideraciones\n",
    "en cuenta pero también toma otros desafíos,como la captura, limpieza y transformación de\n",
    "redes sociales no estructuradas y datos web; el uso de bigdata\n",
    "tecnologías para almacenar y procesar grandes,conjuntos de datos no estructurados.\n",
    "\n",
    "<img src=\"DM2.png\" alt=\"Data-Pop's logo\" style=\"width: 450px;\" align=\"rigth\" frameborder=\"550\"/>\n",
    "<img src=\"DM1.png\" alt=\"Data-Pop's logo\" style=\"width: 450px;\" align=\"letf\" frameborder=\"550\"/>"
   ]
  },
  {
   "cell_type": "markdown",
   "metadata": {},
   "source": [
    "### Web Scrapping\n",
    "El web scraping está muy relacionado con la indexación de la web, la cual indexa la información de la web utilizando un robot y es una técnica universal adoptada por la mayoría de los motores de búsqueda. Sin embargo, el web scraping se enfoca más en la transformación de datos sin estructura en la web (como el formato HTML) en datos estructurados que pueden ser almacenados y analizados en una base de datos central, en una hoja de cálculo o en alguna otra fuente de almacenamiento. Alguno de los usos del web scraping son la comparación de precios en tiendas, la monitorización de datos relacionados con el clima de cierta región, la detección de cambios en sitios webs y la integración de datos en sitios webs. También es utilizado para obtener información relevante de un sitio a través de los rich snippets.\n",
    "\n",
    "<img src=\"WS2.png\" alt=\"dane logo\" style=\"width: 450px;\" align=\"rigth\" frameborder=\"550\"/>\n",
    "\n",
    "<img src=\"WS1.png\" alt=\"DANE logo\" style=\"width: 450px;\" align=\"letf\" frameborder=\"550\"/>"
   ]
  },
  {
   "cell_type": "markdown",
   "metadata": {},
   "source": [
    "### Text Mining\n",
    "A simple vista, el proceso text mining no se diferencia de la definición previa que hemos establecido para el Data Mining, pero en la minería de texto obtenemos información nueva a partir de grandes cantidades de texto, en la que la información suele estar no estructurada. Por su parte en la minería de datos el conocimiento se obtiene de bases de datos, en la que la información está estructurada.\n",
    "\n",
    "Por tanto, en la minería de textos los datos a tratar serán los documentos y textos de las organizaciones, en lugar de los datos de las bases de datos, llevando a cabo un análisis de los datos compartidos por todos los textos de la colección.\n",
    "\n",
    "<img src=\"TM1.png\" alt=\"Data logo\" style=\"width: 650px;\" align=\"rigth\" frameborder=\"550\"/>"
   ]
  },
  {
   "cell_type": "markdown",
   "metadata": {},
   "source": [
    "## Machine Learning\n",
    "\n",
    "Machine Learning puede definirse como un método analítico que permite que un sistema, por sí mismo —sin intervención humana y en forma automatizada—, aprenda a descubrir patrones, tendencias y relaciones en los datos, y gracias a dicho conocimiento, en cada interacción con información nueva se ofrecen mejores perspectivas. Esta competencia inherente para aprender de los datos, que sitúa a Machine Learning como una expresión de la Inteligencia Artificial, hoy todavía puede asombrar a algunos individuos; sin embargo, es una función analítica que ya determina múltiples aspectos de nuestra vida. \n",
    "\n",
    "<img src=\"ml5.png\" alt=\"Data-Pop's logo\" style=\"width: 600px;\" align=\"left\" frameborder=\"550\"/>\n",
    "\n",
    "<img src=\"mls.png\" alt=\"ECLAC's logo\" style=\"width: 350px;\" align=\"center\" frameborder=\"200\"/>"
   ]
  },
  {
   "cell_type": "markdown",
   "metadata": {},
   "source": [
    "<img src=\"https://raw.githubusercontent.com/RodrigoLaraMolina/DPATTSrc/master/ML2.png\" alt=\"ML\" style=\"width: 500px;\" align=\"center\" frameborder=\"200\"/>\n"
   ]
  }
 ],
 "metadata": {
  "kernelspec": {
   "display_name": "Python 3",
   "language": "python",
   "name": "python3"
  },
  "language_info": {
   "codemirror_mode": {
    "name": "ipython",
    "version": 3
   },
   "file_extension": ".py",
   "mimetype": "text/x-python",
   "name": "python",
   "nbconvert_exporter": "python",
   "pygments_lexer": "ipython3",
   "version": "3.7.3"
  }
 },
 "nbformat": 4,
 "nbformat_minor": 4
}
